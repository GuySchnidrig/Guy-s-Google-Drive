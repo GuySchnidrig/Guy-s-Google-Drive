{
  "nbformat": 4,
  "nbformat_minor": 0,
  "metadata": {
    "colab": {
      "name": "google_drive_2.ipynb",
      "provenance": []
    },
    "kernelspec": {
      "name": "python3",
      "display_name": "Python 3"
    },
    "accelerator": "GPU"
  },
  "cells": [
    {
      "cell_type": "markdown",
      "metadata": {
        "id": "mCimy-zwcqqE"
      },
      "source": [
        "Lets mount google drive:"
      ]
    },
    {
      "cell_type": "code",
      "metadata": {
        "id": "H0zoAB_-dkrk",
        "colab": {
          "base_uri": "https://localhost:8080/"
        },
        "outputId": "2e104fc0-b617-4cfe-c0aa-b25a9c64fe69"
      },
      "source": [
        "from google.colab import drive #load google drive\n",
        "drive.mount('/content/drive')"
      ],
      "execution_count": 5,
      "outputs": [
        {
          "output_type": "stream",
          "text": [
            "Drive already mounted at /content/drive; to attempt to forcibly remount, call drive.mount(\"/content/drive\", force_remount=True).\n"
          ],
          "name": "stdout"
        }
      ]
    },
    {
      "cell_type": "code",
      "metadata": {
        "id": "2nLXh49m4XbD",
        "colab": {
          "base_uri": "https://localhost:8080/"
        },
        "outputId": "17044d52-68f9-437d-ea5a-c777caedad88"
      },
      "source": [
        "!ls \"/content/drive/My Drive\""
      ],
      "execution_count": 9,
      "outputs": [
        {
          "output_type": "stream",
          "text": [
            " Audiobooks\t\t    Games\t\t     MSC\n",
            " Bitthief\t\t   'Handy Pictures'\t    'MTG Order'\n",
            " CAS\t\t\t    Important\t\t     Music\n",
            "'Colab Notebooks'\t   'Master Gebühr Guy.pdf'   Uni\n",
            "'Daily Work Out Log.xlsx'   Minatures\t\t     Wallpapers\n",
            "'D&D'\t\t\t    Misc\t\t     Zähringia\n",
            " Ebooks\t\t\t    ML_Coffee_CERN\n"
          ],
          "name": "stdout"
        }
      ]
    },
    {
      "cell_type": "code",
      "metadata": {
        "id": "tLR3MLdREzKC",
        "outputId": "65a9e01c-7b8f-441e-d1c6-1ed039c7b973",
        "colab": {
          "base_uri": "https://localhost:8080/"
        }
      },
      "source": [
        "!cd \"/content/drive/My Drive\"\r\n",
        "!ls"
      ],
      "execution_count": 12,
      "outputs": [
        {
          "output_type": "stream",
          "text": [
            "drive  sample_data\n"
          ],
          "name": "stdout"
        }
      ]
    }
  ]
}
