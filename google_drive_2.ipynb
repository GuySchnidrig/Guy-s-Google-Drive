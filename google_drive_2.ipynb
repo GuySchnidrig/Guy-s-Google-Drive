{
  "nbformat": 4,
  "nbformat_minor": 0,
  "metadata": {
    "colab": {
      "name": "google_drive_2.ipynb",
      "provenance": []
    },
    "kernelspec": {
      "name": "python3",
      "display_name": "Python 3"
    },
    "accelerator": "GPU"
  },
  "cells": [
    {
      "cell_type": "markdown",
      "metadata": {
        "id": "mCimy-zwcqqE"
      },
      "source": [
        "Lets mount google drive:"
      ]
    },
    {
      "cell_type": "code",
      "metadata": {
        "id": "H0zoAB_-dkrk",
        "colab": {
          "base_uri": "https://localhost:8080/"
        },
        "outputId": "8f19e5b0-bef3-449b-cec8-c683fd5152ac"
      },
      "source": [
        "from google.colab import drive #load google drive\n",
        "drive.mount('/content/drive')"
      ],
      "execution_count": 13,
      "outputs": [
        {
          "output_type": "stream",
          "text": [
            "Drive already mounted at /content/drive; to attempt to forcibly remount, call drive.mount(\"/content/drive\", force_remount=True).\n"
          ],
          "name": "stdout"
        }
      ]
    },
    {
      "cell_type": "code",
      "metadata": {
        "id": "2nLXh49m4XbD",
        "colab": {
          "base_uri": "https://localhost:8080/"
        },
        "outputId": "55c9f66f-9f61-4315-858b-5ea45b0747f7"
      },
      "source": [
        "%cd \"/content/drive/My Drive\" #set location drive"
      ],
      "execution_count": 23,
      "outputs": [
        {
          "output_type": "stream",
          "text": [
            "[Errno 2] No such file or directory: '/content/drive/My Drive #set location drive'\n",
            "/content/drive/My Drive\n"
          ],
          "name": "stdout"
        }
      ]
    },
    {
      "cell_type": "code",
      "metadata": {
        "id": "fq5smCXoGQhQ",
        "outputId": "c13f8366-f8fe-4009-b255-bf875734b1d9",
        "colab": {
          "base_uri": "https://localhost:8080/"
        }
      },
      "source": [
        "%ls #show content of drive"
      ],
      "execution_count": 24,
      "outputs": [
        {
          "output_type": "stream",
          "text": [
            " \u001b[0m\u001b[01;34mAudiobooks\u001b[0m/                \u001b[01;34mGames\u001b[0m/                   \u001b[01;34mMSC\u001b[0m/\n",
            " \u001b[01;34mBitthief\u001b[0m/                 \u001b[01;34m'Handy Pictures'\u001b[0m/        \u001b[01;34m'MTG Order'\u001b[0m/\n",
            " \u001b[01;34mCAS\u001b[0m/                       \u001b[01;34mImportant\u001b[0m/               \u001b[01;34mMusic\u001b[0m/\n",
            "\u001b[01;34m'Colab Notebooks'\u001b[0m/         'Master Gebühr Guy.pdf'   \u001b[01;34mUni\u001b[0m/\n",
            "'Daily Work Out Log.xlsx'   \u001b[01;34mMinatures\u001b[0m/               \u001b[01;34mWallpapers\u001b[0m/\n",
            "\u001b[01;34m'D&D'\u001b[0m/                      \u001b[01;34mMisc\u001b[0m/                    \u001b[01;34mZähringia\u001b[0m/\n",
            " \u001b[01;34mEbooks\u001b[0m/                    \u001b[01;34mML_Coffee_CERN\u001b[0m/\n"
          ],
          "name": "stdout"
        }
      ]
    },
    {
      "cell_type": "code",
      "metadata": {
        "id": "GSnzi5OBGyIQ",
        "outputId": "b59d7800-0ea5-4a97-ae80-4f15671ce95d",
        "colab": {
          "base_uri": "https://localhost:8080/"
        }
      },
      "source": [
        "%cd \"/content/drive/My Drive/Misc\" #set a specific location \r\n",
        "%ls #show contents of specific location\r\n"
      ],
      "execution_count": 34,
      "outputs": [
        {
          "output_type": "stream",
          "text": [
            "[Errno 2] No such file or directory: '/content/drive/My Drive/Misc #set a specific location'\n",
            "/content/drive/My Drive/Misc\n",
            "'Fubu gym.xlsx'  \"Guy's Cards in Cube.gsheet\"   Workout.xlsx\n"
          ],
          "name": "stdout"
        }
      ]
    },
    {
      "cell_type": "code",
      "metadata": {
        "id": "nHG0EQzjHroo",
        "outputId": "ea50c4ca-cc98-4a58-8f30-816803ae35c2",
        "colab": {
          "base_uri": "https://localhost:8080/"
        }
      },
      "source": [
        "import pandas as pd #load pandas to read excel files\r\n",
        "df = pd.read_excel('Fubu gym.xlsx')\r\n",
        "print(df)"
      ],
      "execution_count": 35,
      "outputs": [
        {
          "output_type": "stream",
          "text": [
            "                              Day 1                    Day 2\n",
            "0                               NaN                      NaN\n",
            "1                            Rücken                    Chest\n",
            "2                   [ ]Deadlift 4x         [ ] Benchpress 4x\n",
            "3                       [ ] Pullups  [ ] Landminechest press\n",
            "4          [ ] Lower backextenstion   [ ] Butterfly maschine\n",
            "5    [ ] Reverse Grip bentover rows                      NaN\n",
            "6                  [ ] Landmine row                     Legs\n",
            "7                               NaN            [ ] Squats 4x\n",
            "8                            Biceps       [ ] Dumbell lunges\n",
            "9                         [ ] Curls                      NaN\n",
            "10         [ ] Biceps pull mit seil                      NaN\n",
            "11                 [ ] Hammer curls                  Triceps\n",
            "12                              NaN            [ ] Rope pull\n",
            "13                        Shoulders         [ ] Skullcrusher\n",
            "14            [ ]  Overheadpress 4x                      NaN\n",
            "15  [ ] External Rotaion with Cable                      NaN\n",
            "16                [ ] Arm rise side                      NaN\n",
            "17                              NaN                      NaN\n",
            "18                             Core                     Core\n",
            "19                      [ ] Rollout                [ ] Plank\n"
          ],
          "name": "stdout"
        }
      ]
    }
  ]
}